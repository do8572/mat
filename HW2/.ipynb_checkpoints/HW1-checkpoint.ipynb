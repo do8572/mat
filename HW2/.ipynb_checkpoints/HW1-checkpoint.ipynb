{
 "cells": [
  {
   "cell_type": "markdown",
   "id": "2c2fcc77-7274-4bea-a676-d0301401217e",
   "metadata": {},
   "source": [
    "# HW2: Part 1 - Primal-dual Interior-point method"
   ]
  },
  {
   "cell_type": "code",
   "execution_count": 4,
   "id": "6b7d47b3-1636-4ce5-95b7-c9f5ccccc3cf",
   "metadata": {},
   "outputs": [],
   "source": [
    "import numpy as np, pandas as pd, scipy.optimize as sopt\n",
    "import matplotlib.pyplot as plt\n",
    "import time\n",
    "\n",
    "import warnings\n",
    "warnings.simplefilter(action='ignore', category=FutureWarning)"
   ]
  },
  {
   "cell_type": "markdown",
   "id": "92d2438c-d97e-424d-bda3-1a8e441c26f0",
   "metadata": {},
   "source": [
    "## 1. Method implementation"
   ]
  },
  {
   "cell_type": "code",
   "execution_count": 2,
   "id": "b3f291d5-9a62-4a5f-a4e6-5053022e509d",
   "metadata": {},
   "outputs": [],
   "source": [
    "# interior-point method\n",
    "class InteriorPoint:\n",
    "    def __init__(self):\n",
    "        pass\n",
    "    \n",
    "    def solve(self, A, b, c):\n",
    "        pass\n",
    "    \n",
    "    def _solve(self, A, b, c):\n",
    "        pass\n",
    "\n",
    "# remove unnecesary equations\n",
    "# construct LP (P')\n",
    "# construct dual (D')\n",
    "# find initial iterate\n",
    "# procees with iterative improvements\n",
    "# when mu small enought\n",
    "# calculate stopping parameter\n",
    "\n",
    "# logging with observer"
   ]
  },
  {
   "cell_type": "markdown",
   "id": "bed29c79-d8d9-4861-b644-485d9493b64d",
   "metadata": {},
   "source": [
    "## 2. Diet problem"
   ]
  },
  {
   "cell_type": "markdown",
   "id": "787761f3-acbf-4caf-a527-7574597a0767",
   "metadata": {},
   "source": [
    "A man does not live by bread alone - apparently vegetable oil is also needed."
   ]
  },
  {
   "cell_type": "code",
   "execution_count": 28,
   "id": "08dde8ed-62fc-47d1-ac18-38d449e88e94",
   "metadata": {},
   "outputs": [
    {
     "name": "stdout",
     "output_type": "stream",
     "text": [
      "min. cost: 148.83\n",
      "CH: 299.04\n",
      "PR: 68.53\n",
      "FT: 90.0\n",
      "EN: 2200.0\n",
      "----------------------------------------\n",
      "----------------------------------------\n",
      "potatoes: 0g\n",
      "bread: 623g\n",
      "milk: 0g\n",
      "eggs: 0g\n",
      "yogurt: 0g\n",
      "veg. oil: 59g\n",
      "beef: 0g\n",
      "strawbrs: 0g\n"
     ]
    }
   ],
   "source": [
    "# print-out optimal diet\n",
    "def display_diet(f_opt, x_opt):\n",
    "    print(f\"min. cost: {round(f_opt, 2)}\")\n",
    "    print(f\"CH: {round(np.array([ 18,   48,   5,    1,   5,    0,    0,   8]).dot(x_opt), 2)}\")\n",
    "    print(f\"PR: {round(np.array([  2,   11,   3,   13,   3,    0,   15,   1]).dot(x_opt), 2)}\")\n",
    "    print(f\"FT: {round(np.array([  0,    5,   3,   10,   3,  100,   30,   1]).dot(x_opt), 2)}\")\n",
    "    print(f\"EN: {round(np.array([ 77,  270,  60,  140,  61,  880,  330,  32]).dot(x_opt), 2)}\")\n",
    "    print(20 * \"--\")\n",
    "    print(20 * \"--\")\n",
    "    foods = [\"potatoes\", \"bread\", \"milk\", \"eggs\", \"yogurt\", \"veg. oil\", \"beef\", \"strawbrs\"]\n",
    "    for food, x in zip(foods, x_opt):\n",
    "        print(f\"{food}: {round(100 * x)}g\")\n",
    "\n",
    "# setup diet LP problem\n",
    "cost = [10, 22, 15, 45, 40, 20, 87, 21]\n",
    "constr_A = [[ 18,   48,   5,    1,   5,    0,    0,   8],\n",
    "            [-18,  -48,  -5,   -1,  -5,    0,    0,  -8],\n",
    "            [  2,   11,   3,   13,   3,    0,   15,   1],\n",
    "            [ -2,  -11,  -3,  -13,  -3,    0,  -15,  -1],\n",
    "            [  0,    5,   3,   10,   3,  100,   30,   1],\n",
    "            [  0,   -5,  -3,  -10,  -3, -100,  -30,  -1],\n",
    "            [ 77,  270,  60,  140,  61,  880,  330,  32],\n",
    "            [-77, -270, -60, -140, -61, -880, -330, -32]]\n",
    "constr_b = [370, -250, 170, -50, 90, -50, 2400, -2200]\n",
    "\n",
    "# use scipy solver\n",
    "bnd = len(cost) * [(0, float(\"inf\"))]\n",
    "res = sopt.linprog(c=cost, A_ub=constr_A, b_ub=constr_b, bounds=bnd, method=\"interior-point\")\n",
    "\n",
    "display_diet(res.fun, res.x)\n",
    "\n",
    "# TODO: use my interior-point method"
   ]
  },
  {
   "cell_type": "markdown",
   "id": "4a50e7e3-5d9f-475b-9703-97efc4853181",
   "metadata": {},
   "source": [
    "## 3. Analytic center"
   ]
  },
  {
   "cell_type": "code",
   "execution_count": null,
   "id": "3dc11ea5-9d94-4644-b368-31654f49218a",
   "metadata": {},
   "outputs": [],
   "source": [
    "# analytic center - theory"
   ]
  }
 ],
 "metadata": {
  "kernelspec": {
   "display_name": "mat",
   "language": "python",
   "name": "mat"
  },
  "language_info": {
   "codemirror_mode": {
    "name": "ipython",
    "version": 3
   },
   "file_extension": ".py",
   "mimetype": "text/x-python",
   "name": "python",
   "nbconvert_exporter": "python",
   "pygments_lexer": "ipython3",
   "version": "3.10.5"
  }
 },
 "nbformat": 4,
 "nbformat_minor": 5
}
