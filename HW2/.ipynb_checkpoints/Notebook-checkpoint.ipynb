{
 "cells": [
  {
   "cell_type": "code",
   "execution_count": 3,
   "id": "0e005459",
   "metadata": {},
   "outputs": [],
   "source": [
    "import numpy as np, pandas as pd"
   ]
  },
  {
   "cell_type": "markdown",
   "id": "e7129e81",
   "metadata": {},
   "source": [
    "### 1. Nelder-mead"
   ]
  },
  {
   "cell_type": "code",
   "execution_count": 83,
   "id": "48c19ee1",
   "metadata": {},
   "outputs": [],
   "source": [
    "f1 = lambda x: (x[0] - x[2])**2 + (2*x[1] + x[2])**2 + (4*x[0] - 2*x[1] + x[2])**2 + x[0] + x[1]\n",
    "f2 = lambda x: (x[0] - 1)**2 + (x[1] - 1)**2 + 100*(x[1] - x[0]**2)**2 + 100*(x[2] - x[1]**2)**2\n",
    "f3 = lambda x: (1.5 - x[0] + x[0]*x[1])**2 + (2.25 - x[0] + x[0]*x[1]**2)**2 + (2.625 - x[0] + x[0]*x[1]**3)**2"
   ]
  },
  {
   "cell_type": "code",
   "execution_count": 84,
   "id": "00271a2f-a9f8-4049-91db-9b7501ec7ee0",
   "metadata": {},
   "outputs": [],
   "source": [
    "# nelder_mead prototype\n",
    "\n",
    "# for i in maxiter\n",
    "#    order according to f\n",
    "#    calc centroid for all values exept worst\n",
    "#    reflect worst\n",
    "#    if reflected best point\n",
    "#        extend point \n",
    "#        switch worst point with best point between extend and reflect\n",
    "#    if reflected between\n",
    "#        replace worst with reflected\n",
    "#    if worst then all n points\n",
    "#        contract \n",
    "#        if contract better than reflect replace worst with contract\n",
    "#        else shrink\n",
    "#    if worst then all points\n",
    "#        contract\n",
    "#        if better than worst point accept\n",
    "#        else shrink"
   ]
  },
  {
   "cell_type": "code",
   "execution_count": 116,
   "id": "838115a8",
   "metadata": {},
   "outputs": [],
   "source": [
    "def nelder_mead(f, xin, alpha = 1, gamma = 2, ro = 0.5, sigma = 0.5, maxiter = 10000):\n",
    "    # Initialize\n",
    "    success = False\n",
    "    ndim = len(xin) \n",
    "    pnts = np.array([xin for i in range(ndim+1)])\n",
    "    pnts[:ndim, :] = np.eye(ndim)\n",
    "    fvals = f(pnts.T)\n",
    "    \n",
    "    for i in range(maxiter):\n",
    "        find = np.argsort(fvals)\n",
    "        pnts, fvals = pnts[find], fvals[find]    \n",
    "        centroid = np.mean(pnts[:ndim, :], axis = 1)\n",
    "        \n",
    "        print(centroid)\n",
    "        \n",
    "        # Termination condition\n",
    "        if np.std(fvals) < 1e-5:\n",
    "            success = True\n",
    "            break\n",
    "            \n",
    "        # Reflection\n",
    "        xr = centroid + alpha * (centroid - pnts[0])\n",
    "        fr = f(xr)\n",
    "        \n",
    "        for j in range(ndim+1):\n",
    "            if j > ndim or fvals[ndim - j] < fr:\n",
    "                rind = ndim - j\n",
    "                break\n",
    "        \n",
    "        if 0 <= rind and rind < ndim+1:\n",
    "            pnts[:, -1], fvals[-1] = xr, fr\n",
    "        elif rind < 0:\n",
    "            xe = centroid + gamma * (xr - centroid)\n",
    "            fe = f(xe)\n",
    "            pnts[:, -1], fvals[-1] = xe, fe if (fe < fr) else xr, fr\n",
    "        elif rind >= ndim:\n",
    "            xc = centroid  + ro * (xr - centroid)\n",
    "            fc = f(xc)\n",
    "            if fc < min(fr, fvals[-1]):\n",
    "                pnts[:, -1], fvals[-1] = xc, fc\n",
    "            else:\n",
    "                x_0 = pnts[:, 0]\n",
    "                pnts = x0 + sigma * (pnts - x0)\n",
    "                fvals = f(pnts.T)\n",
    "    \n",
    "    return pnts[0], success"
   ]
  },
  {
   "cell_type": "code",
   "execution_count": 117,
   "id": "890d8604-d342-45aa-a92d-1f96dda60084",
   "metadata": {},
   "outputs": [
    {
     "name": "stdout",
     "output_type": "stream",
     "text": [
      "[0.         0.33333333 0.33333333]\n"
     ]
    },
    {
     "ename": "ValueError",
     "evalue": "could not broadcast input array from shape (3,) into shape (4,)",
     "output_type": "error",
     "traceback": [
      "\u001b[1;31m---------------------------------------------------------------------------\u001b[0m",
      "\u001b[1;31mValueError\u001b[0m                                Traceback (most recent call last)",
      "Input \u001b[1;32mIn [117]\u001b[0m, in \u001b[0;36m<cell line: 1>\u001b[1;34m()\u001b[0m\n\u001b[1;32m----> 1\u001b[0m init, status \u001b[38;5;241m=\u001b[39m \u001b[43mnelder_mead\u001b[49m\u001b[43m(\u001b[49m\u001b[43mf1\u001b[49m\u001b[43m,\u001b[49m\u001b[43m \u001b[49m\u001b[43mnp\u001b[49m\u001b[38;5;241;43m.\u001b[39;49m\u001b[43marray\u001b[49m\u001b[43m(\u001b[49m\u001b[43m[\u001b[49m\u001b[38;5;241;43m0\u001b[39;49m\u001b[43m,\u001b[49m\u001b[38;5;241;43m0\u001b[39;49m\u001b[43m,\u001b[49m\u001b[38;5;241;43m0\u001b[39;49m\u001b[43m]\u001b[49m\u001b[43m)\u001b[49m\u001b[43m)\u001b[49m\n",
      "Input \u001b[1;32mIn [116]\u001b[0m, in \u001b[0;36mnelder_mead\u001b[1;34m(f, xin, alpha, gamma, ro, sigma, maxiter)\u001b[0m\n\u001b[0;32m     28\u001b[0m         \u001b[38;5;28;01mbreak\u001b[39;00m\n\u001b[0;32m     30\u001b[0m \u001b[38;5;28;01mif\u001b[39;00m \u001b[38;5;241m0\u001b[39m \u001b[38;5;241m<\u001b[39m\u001b[38;5;241m=\u001b[39m rind \u001b[38;5;129;01mand\u001b[39;00m rind \u001b[38;5;241m<\u001b[39m ndim\u001b[38;5;241m+\u001b[39m\u001b[38;5;241m1\u001b[39m:\n\u001b[1;32m---> 31\u001b[0m     pnts[:, \u001b[38;5;241m-\u001b[39m\u001b[38;5;241m1\u001b[39m], fvals[\u001b[38;5;241m-\u001b[39m\u001b[38;5;241m1\u001b[39m] \u001b[38;5;241m=\u001b[39m xr, fr\n\u001b[0;32m     32\u001b[0m \u001b[38;5;28;01melif\u001b[39;00m rind \u001b[38;5;241m<\u001b[39m \u001b[38;5;241m0\u001b[39m:\n\u001b[0;32m     33\u001b[0m     xe \u001b[38;5;241m=\u001b[39m centroid \u001b[38;5;241m+\u001b[39m gamma \u001b[38;5;241m*\u001b[39m (xr \u001b[38;5;241m-\u001b[39m centroid)\n",
      "\u001b[1;31mValueError\u001b[0m: could not broadcast input array from shape (3,) into shape (4,)"
     ]
    }
   ],
   "source": [
    "init, status = nelder_mead(f1, np.array([0,0,0]))"
   ]
  },
  {
   "cell_type": "code",
   "execution_count": 109,
   "id": "5608a547-b687-4425-a385-87269a17260c",
   "metadata": {},
   "outputs": [
    {
     "data": {
      "text/plain": [
       "array([0, 0, 0])"
      ]
     },
     "execution_count": 109,
     "metadata": {},
     "output_type": "execute_result"
    }
   ],
   "source": [
    "init"
   ]
  },
  {
   "cell_type": "code",
   "execution_count": 61,
   "id": "74fcefc1-ea01-410e-b99a-c6fec00b525e",
   "metadata": {},
   "outputs": [
    {
     "data": {
      "text/plain": [
       "array([ 6,  7, -3,  2], dtype=int32)"
      ]
     },
     "execution_count": 61,
     "metadata": {},
     "output_type": "execute_result"
    }
   ],
   "source": [
    "f1(init.T)"
   ]
  },
  {
   "cell_type": "code",
   "execution_count": 9,
   "id": "ae626836",
   "metadata": {},
   "outputs": [],
   "source": [
    "arr = np.array([1,2,3,4,5,6])"
   ]
  },
  {
   "cell_type": "code",
   "execution_count": 10,
   "id": "11f88613",
   "metadata": {},
   "outputs": [
    {
     "data": {
      "text/plain": [
       "[5, 4, 6, 1, 3, 2]"
      ]
     },
     "execution_count": 10,
     "metadata": {},
     "output_type": "execute_result"
    }
   ],
   "source": [
    "sorted(arr, key=fun)"
   ]
  },
  {
   "cell_type": "code",
   "execution_count": 11,
   "id": "aa3378bb",
   "metadata": {},
   "outputs": [
    {
     "data": {
      "text/plain": [
       "array([ 0,  3,  2, -3, -4, -1], dtype=int32)"
      ]
     },
     "execution_count": 11,
     "metadata": {},
     "output_type": "execute_result"
    }
   ],
   "source": [
    "fun(arr)"
   ]
  },
  {
   "cell_type": "code",
   "execution_count": 12,
   "id": "94855d6f",
   "metadata": {},
   "outputs": [
    {
     "data": {
      "text/plain": [
       "array([1, 2, 3, 4, 5, 6])"
      ]
     },
     "execution_count": 12,
     "metadata": {},
     "output_type": "execute_result"
    }
   ],
   "source": [
    "arr"
   ]
  },
  {
   "cell_type": "code",
   "execution_count": 13,
   "id": "d0a9b0ec",
   "metadata": {},
   "outputs": [
    {
     "data": {
      "text/plain": [
       "0"
      ]
     },
     "execution_count": 13,
     "metadata": {},
     "output_type": "execute_result"
    }
   ],
   "source": [
    "fun(1)"
   ]
  },
  {
   "cell_type": "code",
   "execution_count": null,
   "id": "50574016",
   "metadata": {},
   "outputs": [],
   "source": []
  }
 ],
 "metadata": {
  "kernelspec": {
   "display_name": "ds-project",
   "language": "python",
   "name": "ds-project"
  },
  "language_info": {
   "codemirror_mode": {
    "name": "ipython",
    "version": 3
   },
   "file_extension": ".py",
   "mimetype": "text/x-python",
   "name": "python",
   "nbconvert_exporter": "python",
   "pygments_lexer": "ipython3",
   "version": "3.10.4"
  }
 },
 "nbformat": 4,
 "nbformat_minor": 5
}
