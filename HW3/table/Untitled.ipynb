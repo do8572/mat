{
 "cells": [
  {
   "cell_type": "code",
   "execution_count": 1,
   "id": "b909ad20-e034-4b1e-ba87-25671fa4e7a8",
   "metadata": {},
   "outputs": [
    {
     "name": "stderr",
     "output_type": "stream",
     "text": [
      "Warning message:\n",
      "“package ‘mcmcse’ was built under R version 4.2.0”\n"
     ]
    }
   ],
   "source": [
    "library(mcmcse)"
   ]
  },
  {
   "cell_type": "code",
   "execution_count": 12,
   "id": "3f72026e-14c8-4995-9e2c-ad56c74e22f0",
   "metadata": {},
   "outputs": [],
   "source": [
    "df <- read.csv(file=\"df- banana .csv\")"
   ]
  },
  {
   "cell_type": "code",
   "execution_count": 45,
   "id": "51d1cab1-7b17-4597-aa93-17f42ba66c24",
   "metadata": {},
   "outputs": [
    {
     "data": {
      "text/html": [
       "5000"
      ],
      "text/latex": [
       "5000"
      ],
      "text/markdown": [
       "5000"
      ],
      "text/plain": [
       "[1] 5000"
      ]
     },
     "metadata": {},
     "output_type": "display_data"
    }
   ],
   "source": [
    "rs <- df[(df$alg == \"RS\") & df$tune, ]\n",
    "ess(na.omit(rs$x1))"
   ]
  },
  {
   "cell_type": "code",
   "execution_count": 46,
   "id": "ecfd6af7-37ff-442e-b196-781e1fb875f2",
   "metadata": {},
   "outputs": [
    {
     "data": {
      "text/html": [
       "<style>\n",
       ".dl-inline {width: auto; margin:0; padding: 0}\n",
       ".dl-inline>dt, .dl-inline>dd {float: none; width: auto; display: inline-block}\n",
       ".dl-inline>dt::after {content: \":\\0020\"; padding-right: .5ex}\n",
       ".dl-inline>dt:not(:first-of-type) {padding-left: .5ex}\n",
       "</style><dl class=dl-inline><dt>x1</dt><dd>5000</dd><dt>x2</dt><dd>5000</dd></dl>\n"
      ],
      "text/latex": [
       "\\begin{description*}\n",
       "\\item[x1] 5000\n",
       "\\item[x2] 5000\n",
       "\\end{description*}\n"
      ],
      "text/markdown": [
       "x1\n",
       ":   5000x2\n",
       ":   5000\n",
       "\n"
      ],
      "text/plain": [
       "  x1   x2 \n",
       "5000 5000 "
      ]
     },
     "metadata": {},
     "output_type": "display_data"
    }
   ],
   "source": [
    "ess(rs[,c(\"x1\", \"x2\")])"
   ]
  },
  {
   "cell_type": "code",
   "execution_count": 47,
   "id": "523e1196-b5b2-4a75-90b8-130ed72a6abf",
   "metadata": {},
   "outputs": [
    {
     "data": {
      "text/html": [
       "5000"
      ],
      "text/latex": [
       "5000"
      ],
      "text/markdown": [
       "5000"
      ],
      "text/plain": [
       "[1] 5000"
      ]
     },
     "metadata": {},
     "output_type": "display_data"
    }
   ],
   "source": [
    "5000 * (var(rs$x1) / 5000) / (mcse(rs$x1)$se)^2"
   ]
  },
  {
   "cell_type": "code",
   "execution_count": 48,
   "id": "b2c0cc6c-e26a-469c-b032-35b6f05df7b7",
   "metadata": {},
   "outputs": [
    {
     "data": {
      "text/html": [
       "5000"
      ],
      "text/latex": [
       "5000"
      ],
      "text/markdown": [
       "5000"
      ],
      "text/plain": [
       "[1] 5000"
      ]
     },
     "metadata": {},
     "output_type": "display_data"
    }
   ],
   "source": [
    "multiESS(rs[,c(\"x1\", \"x2\")])"
   ]
  },
  {
   "cell_type": "code",
   "execution_count": null,
   "id": "335b0bfb-98ff-4645-9f82-82cc836223a6",
   "metadata": {},
   "outputs": [],
   "source": []
  }
 ],
 "metadata": {
  "kernelspec": {
   "display_name": "r-mat",
   "language": "R",
   "name": "r-mat"
  },
  "language_info": {
   "codemirror_mode": "r",
   "file_extension": ".r",
   "mimetype": "text/x-r-source",
   "name": "R",
   "pygments_lexer": "r",
   "version": "4.1.3"
  }
 },
 "nbformat": 4,
 "nbformat_minor": 5
}
